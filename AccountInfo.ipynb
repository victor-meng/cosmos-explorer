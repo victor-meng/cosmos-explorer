{
  "cells": [
    {
      "cell_type": "code",
      "execution_count": 1,
      "id": "34107906-c137-49ac-af06-7cfbe98b5355",
      "metadata": {
        "collapsed": true,
        "execution": {
          "iopub.status.busy": "2021-04-14T20:25:50.497Z",
          "iopub.status.idle": "2021-04-14T20:25:52.315Z",
          "shell.execute_reply": "2021-04-14T20:25:52.319Z"
        },
        "jupyter": {
          "outputs_hidden": false,
          "source_hidden": false
        },
        "nteract": {
          "transient": {
            "deleting": false
          }
        },
        "trusted": false
      },
      "outputs": [
        {
          "data": {
            "application/json": {
              "data": {
                "_rid": "vimeng-sql-test.documents.azure.com",
                "addresses": "//addresses/",
                "enableMultipleWriteLocations": false,
                "id": "vimeng-sql-test",
                "queryEngineConfiguration": "{\"maxSqlQueryInputLength\":262144,\"maxJoinsPerSqlQuery\":5,\"maxLogicalAndPerSqlQuery\":500,\"maxLogicalOrPerSqlQuery\":500,\"maxUdfRefPerSqlQuery\":10,\"maxInExpressionItemsCount\":16000,\"queryMaxInMemorySortDocumentCount\":500,\"maxQueryRequestTimeoutFraction\":0.9,\"sqlAllowNonFiniteNumbers\":false,\"sqlAllowAggregateFunctions\":true,\"sqlAllowSubQuery\":true,\"sqlAllowScalarSubQuery\":true,\"allowNewKeywords\":true,\"sqlAllowLike\":true,\"sqlAllowGroupByClause\":true,\"maxSpatialQueryCells\":12,\"spatialMaxGeometryPointCount\":256,\"sqlDisableQueryILOptimization\":false,\"sqlAllowTop\":true,\"enableSpatialIndexing\":true}",
                "readPolicy": {
                  "primaryReadCoefficient": 1,
                  "secondaryReadCoefficient": 1
                },
                "readableLocations": [
                  {
                    "databaseAccountEndpoint": "https://vimeng-sql-test-westus2.documents.azure.com:443/",
                    "name": "West US 2"
                  }
                ],
                "systemReplicationPolicy": {
                  "AsyncReplication": false,
                  "MaxReplicaSetSize": 4,
                  "MinReplicaSetSize": 3
                },
                "userConsistencyPolicy": {
                  "defaultConsistencyLevel": "Session",
                  "maxIntervalInSeconds": 0,
                  "maxStalenessPrefix": 0
                },
                "userReplicationPolicy": {
                  "AsyncReplication": false,
                  "MaxReplicaSetSize": 4,
                  "MinReplicaSetSize": 3
                },
                "writableLocations": [
                  {
                    "databaseAccountEndpoint": "https://vimeng-sql-test-westus2.documents.azure.com:443/",
                    "name": "West US 2"
                  }
                ]
              }
            },
            "text/plain": "Microsoft.Azure.Cosmos.AccountProperties"
          },
          "execution_count": 1,
          "metadata": {},
          "output_type": "execute_result"
        }
      ],
      "source": "using System;\r\nusing Microsoft.Azure.Cosmos;\r\nusing System.Collections;\r\nusing System.Net;\r\n\r\nCosmosClientOptions cosmosClientOptions = new CosmosClientOptions();\r\n// Initialize a new instance of CosmosClient using the built-in account endpoint and key parameters\r\nCosmosClient cosmosClient = new CosmosClient(Cosmos.Endpoint, Cosmos.Key, cosmosClientOptions);\r\nvar account = await cosmosClient.ReadAccountAsync();\r\naccount"
    },
    {
      "cell_type": "code",
      "execution_count": 15,
      "id": "798b4048-52d1-44f9-9c2e-1432deaefe8d",
      "metadata": {
        "collapsed": true,
        "execution": {
          "iopub.status.busy": "2021-03-09T09:50:36.357Z",
          "iopub.status.idle": "2021-03-09T09:50:36.457Z",
          "shell.execute_reply": "2021-03-09T09:50:36.465Z"
        },
        "jupyter": {
          "outputs_hidden": false,
          "source_hidden": false
        },
        "nteract": {
          "transient": {
            "deleting": false
          }
        },
        "trusted": false
      },
      "outputs": [
        {
          "data": {
            "application/vnd.dataresource+json": {
              "data": [
                {
                  "databaseAccountEndpoint": "https://ramrajb-sdk-samples-westus2.documents.azure.com:443/",
                  "index": 0,
                  "name": "West US 2"
                },
                {
                  "databaseAccountEndpoint": "https://ramrajb-sdk-samples-eastus2.documents.azure.com:443/",
                  "index": 1,
                  "name": "East US 2"
                }
              ],
              "schema": {
                "fields": [
                  {
                    "name": "index",
                    "type": "integer"
                  },
                  {
                    "name": "name",
                    "type": "string"
                  },
                  {
                    "name": "databaseAccountEndpoint",
                    "type": "string"
                  }
                ],
                "primaryKey": [
                  "index"
                ]
              }
            },
            "text/plain": "System.Collections.ObjectModel.Collection`1[Microsoft.Azure.Cosmos.AccountRegion]"
          },
          "execution_count": 15,
          "metadata": {
            "application/vnd.dataresource+json": {
              "__altered": false,
              "_root": {
                "entries": [
                  [
                    "size",
                    6
                  ],
                  [
                    "_root",
                    {
                      "entries": [
                        [
                          "size",
                          4
                        ],
                        [
                          "_root",
                          {
                            "entries": [
                              [
                                "__altered",
                                false
                              ],
                              [
                                "_root",
                                {
                                  "entries": [
                                    [
                                      "__altered",
                                      false
                                    ],
                                    [
                                      "_root",
                                      {
                                        "entries": [
                                          [
                                            "__altered",
                                            false
                                          ],
                                          [
                                            "_root",
                                            {
                                              "entries": [
                                                [
                                                  "__altered",
                                                  false
                                                ],
                                                [
                                                  "_root",
                                                  {
                                                    "entries": [
                                                      [
                                                        "size",
                                                        4
                                                      ],
                                                      [
                                                        "_root",
                                                        {
                                                          "entries": [
                                                            [
                                                              "size",
                                                              4
                                                            ],
                                                            [
                                                              "_root",
                                                              {
                                                                "entries": [
                                                                  [
                                                                    "__altered",
                                                                    false
                                                                  ],
                                                                  [
                                                                    "_root",
                                                                    {
                                                                      "entries": [
                                                                        [
                                                                          "size",
                                                                          6
                                                                        ],
                                                                        [
                                                                          "_root",
                                                                          {
                                                                            "entries": [
                                                                              [
                                                                                "size",
                                                                                6
                                                                              ],
                                                                              [
                                                                                "_root",
                                                                                {
                                                                                  "entries": [
                                                                                    [
                                                                                      "size",
                                                                                      6
                                                                                    ],
                                                                                    [
                                                                                      "_root",
                                                                                      {
                                                                                        "entries": [
                                                                                          [
                                                                                            "size",
                                                                                            6
                                                                                          ],
                                                                                          [
                                                                                            "_root",
                                                                                            {
                                                                                              "entries": [
                                                                                                [
                                                                                                  "size",
                                                                                                  6
                                                                                                ],
                                                                                                [
                                                                                                  "_root",
                                                                                                  {
                                                                                                    "entries": [
                                                                                                      [
                                                                                                        "size",
                                                                                                        6
                                                                                                      ],
                                                                                                      [
                                                                                                        "_root",
                                                                                                        {
                                                                                                          "entries": [
                                                                                                            [
                                                                                                              "size",
                                                                                                              6
                                                                                                            ],
                                                                                                            [
                                                                                                              "_root",
                                                                                                              {
                                                                                                                "entries": [
                                                                                                                  [
                                                                                                                    "size",
                                                                                                                    1
                                                                                                                  ],
                                                                                                                  [
                                                                                                                    "_root",
                                                                                                                    {
                                                                                                                      "entries": [
                                                                                                                        [
                                                                                                                          "dx",
                                                                                                                          {
                                                                                                                            "areaType": "hexbin",
                                                                                                                            "barGrouping": "Clustered",
                                                                                                                            "chart": {
                                                                                                                              "dim1": "name",
                                                                                                                              "dim2": "databaseAccountEndpoint",
                                                                                                                              "dim3": "none",
                                                                                                                              "metric1": "none",
                                                                                                                              "metric2": "none",
                                                                                                                              "metric3": "none",
                                                                                                                              "metric4": "none",
                                                                                                                              "networkLabel": "none",
                                                                                                                              "timeseriesSort": "array-order"
                                                                                                                            },
                                                                                                                            "colors": [
                                                                                                                              "#DA752E",
                                                                                                                              "#E5C209",
                                                                                                                              "#1441A0",
                                                                                                                              "#B86117",
                                                                                                                              "#4D430C",
                                                                                                                              "#1DB390",
                                                                                                                              "#B3331D",
                                                                                                                              "#088EB2",
                                                                                                                              "#417505",
                                                                                                                              "#E479A8",
                                                                                                                              "#F9F39E",
                                                                                                                              "#5782DC",
                                                                                                                              "#EBA97B",
                                                                                                                              "#A2AB60",
                                                                                                                              "#B291CF",
                                                                                                                              "#8DD2C2",
                                                                                                                              "#E6A19F",
                                                                                                                              "#3DC7E0",
                                                                                                                              "#98CE5B"
                                                                                                                            ],
                                                                                                                            "hierarchyType": "dendrogram",
                                                                                                                            "lineType": "line",
                                                                                                                            "marginalGraphics": "none",
                                                                                                                            "networkType": "force",
                                                                                                                            "pieceType": "bar",
                                                                                                                            "selectedDimensions": [
                                                                                                                              "name"
                                                                                                                            ],
                                                                                                                            "selectedMetrics": [],
                                                                                                                            "summaryType": "violin",
                                                                                                                            "trendLine": "none",
                                                                                                                            "view": "grid"
                                                                                                                          }
                                                                                                                        ]
                                                                                                                      ],
                                                                                                                      "ownerID": {}
                                                                                                                    }
                                                                                                                  ],
                                                                                                                  [
                                                                                                                    "__ownerID",
                                                                                                                    null
                                                                                                                  ],
                                                                                                                  [
                                                                                                                    "__hash",
                                                                                                                    null
                                                                                                                  ],
                                                                                                                  [
                                                                                                                    "__altered",
                                                                                                                    false
                                                                                                                  ],
                                                                                                                  [
                                                                                                                    "dx",
                                                                                                                    {
                                                                                                                      "areaType": "hexbin",
                                                                                                                      "barGrouping": "Clustered",
                                                                                                                      "chart": {
                                                                                                                        "dim1": "name",
                                                                                                                        "dim2": "databaseAccountEndpoint",
                                                                                                                        "dim3": "none",
                                                                                                                        "metric1": "none",
                                                                                                                        "metric2": "none",
                                                                                                                        "metric3": "none",
                                                                                                                        "metric4": "none",
                                                                                                                        "networkLabel": "none",
                                                                                                                        "timeseriesSort": "array-order"
                                                                                                                      },
                                                                                                                      "colors": [
                                                                                                                        "#DA752E",
                                                                                                                        "#E5C209",
                                                                                                                        "#1441A0",
                                                                                                                        "#B86117",
                                                                                                                        "#4D430C",
                                                                                                                        "#1DB390",
                                                                                                                        "#B3331D",
                                                                                                                        "#088EB2",
                                                                                                                        "#417505",
                                                                                                                        "#E479A8",
                                                                                                                        "#F9F39E",
                                                                                                                        "#5782DC",
                                                                                                                        "#EBA97B",
                                                                                                                        "#A2AB60",
                                                                                                                        "#B291CF",
                                                                                                                        "#8DD2C2",
                                                                                                                        "#E6A19F",
                                                                                                                        "#3DC7E0",
                                                                                                                        "#98CE5B"
                                                                                                                      ],
                                                                                                                      "hierarchyType": "dendrogram",
                                                                                                                      "lineType": "line",
                                                                                                                      "marginalGraphics": "none",
                                                                                                                      "networkType": "force",
                                                                                                                      "pieceType": "bar",
                                                                                                                      "selectedDimensions": [
                                                                                                                        "name"
                                                                                                                      ],
                                                                                                                      "selectedMetrics": [],
                                                                                                                      "summaryType": "violin",
                                                                                                                      "trendLine": "none",
                                                                                                                      "view": "bar"
                                                                                                                    }
                                                                                                                  ]
                                                                                                                ],
                                                                                                                "ownerID": {}
                                                                                                              }
                                                                                                            ],
                                                                                                            [
                                                                                                              "__ownerID",
                                                                                                              null
                                                                                                            ],
                                                                                                            [
                                                                                                              "__hash",
                                                                                                              null
                                                                                                            ],
                                                                                                            [
                                                                                                              "__altered",
                                                                                                              false
                                                                                                            ],
                                                                                                            [
                                                                                                              "dx",
                                                                                                              {
                                                                                                                "areaType": "hexbin",
                                                                                                                "barGrouping": "Clustered",
                                                                                                                "chart": {
                                                                                                                  "dim1": "name",
                                                                                                                  "dim2": "databaseAccountEndpoint",
                                                                                                                  "dim3": "none",
                                                                                                                  "metric1": "none",
                                                                                                                  "metric2": "none",
                                                                                                                  "metric3": "none",
                                                                                                                  "metric4": "none",
                                                                                                                  "networkLabel": "none",
                                                                                                                  "timeseriesSort": "array-order"
                                                                                                                },
                                                                                                                "colors": [
                                                                                                                  "#DA752E",
                                                                                                                  "#E5C209",
                                                                                                                  "#1441A0",
                                                                                                                  "#B86117",
                                                                                                                  "#4D430C",
                                                                                                                  "#1DB390",
                                                                                                                  "#B3331D",
                                                                                                                  "#088EB2",
                                                                                                                  "#417505",
                                                                                                                  "#E479A8",
                                                                                                                  "#F9F39E",
                                                                                                                  "#5782DC",
                                                                                                                  "#EBA97B",
                                                                                                                  "#A2AB60",
                                                                                                                  "#B291CF",
                                                                                                                  "#8DD2C2",
                                                                                                                  "#E6A19F",
                                                                                                                  "#3DC7E0",
                                                                                                                  "#98CE5B"
                                                                                                                ],
                                                                                                                "hierarchyType": "dendrogram",
                                                                                                                "lineType": "line",
                                                                                                                "marginalGraphics": "none",
                                                                                                                "networkType": "force",
                                                                                                                "pieceType": "bar",
                                                                                                                "selectedDimensions": [
                                                                                                                  "name"
                                                                                                                ],
                                                                                                                "selectedMetrics": [],
                                                                                                                "summaryType": "violin",
                                                                                                                "trendLine": "none",
                                                                                                                "view": "summary"
                                                                                                              }
                                                                                                            ]
                                                                                                          ],
                                                                                                          "ownerID": {}
                                                                                                        }
                                                                                                      ],
                                                                                                      [
                                                                                                        "__ownerID",
                                                                                                        null
                                                                                                      ],
                                                                                                      [
                                                                                                        "__hash",
                                                                                                        null
                                                                                                      ],
                                                                                                      [
                                                                                                        "__altered",
                                                                                                        false
                                                                                                      ],
                                                                                                      [
                                                                                                        "dx",
                                                                                                        {
                                                                                                          "areaType": "hexbin",
                                                                                                          "barGrouping": "Clustered",
                                                                                                          "chart": {
                                                                                                            "dim1": "name",
                                                                                                            "dim2": "databaseAccountEndpoint",
                                                                                                            "dim3": "none",
                                                                                                            "metric1": "none",
                                                                                                            "metric2": "none",
                                                                                                            "metric3": "none",
                                                                                                            "metric4": "none",
                                                                                                            "networkLabel": "none",
                                                                                                            "timeseriesSort": "array-order"
                                                                                                          },
                                                                                                          "colors": [
                                                                                                            "#DA752E",
                                                                                                            "#E5C209",
                                                                                                            "#1441A0",
                                                                                                            "#B86117",
                                                                                                            "#4D430C",
                                                                                                            "#1DB390",
                                                                                                            "#B3331D",
                                                                                                            "#088EB2",
                                                                                                            "#417505",
                                                                                                            "#E479A8",
                                                                                                            "#F9F39E",
                                                                                                            "#5782DC",
                                                                                                            "#EBA97B",
                                                                                                            "#A2AB60",
                                                                                                            "#B291CF",
                                                                                                            "#8DD2C2",
                                                                                                            "#E6A19F",
                                                                                                            "#3DC7E0",
                                                                                                            "#98CE5B"
                                                                                                          ],
                                                                                                          "hierarchyType": "dendrogram",
                                                                                                          "lineType": "line",
                                                                                                          "marginalGraphics": "none",
                                                                                                          "networkType": "force",
                                                                                                          "pieceType": "bar",
                                                                                                          "selectedDimensions": [
                                                                                                            "name"
                                                                                                          ],
                                                                                                          "selectedMetrics": [],
                                                                                                          "summaryType": "violin",
                                                                                                          "trendLine": "none",
                                                                                                          "view": "scatter"
                                                                                                        }
                                                                                                      ]
                                                                                                    ],
                                                                                                    "ownerID": {}
                                                                                                  }
                                                                                                ],
                                                                                                [
                                                                                                  "__ownerID",
                                                                                                  null
                                                                                                ],
                                                                                                [
                                                                                                  "__hash",
                                                                                                  null
                                                                                                ],
                                                                                                [
                                                                                                  "__altered",
                                                                                                  false
                                                                                                ],
                                                                                                [
                                                                                                  "dx",
                                                                                                  {
                                                                                                    "areaType": "hexbin",
                                                                                                    "barGrouping": "Clustered",
                                                                                                    "chart": {
                                                                                                      "dim1": "name",
                                                                                                      "dim2": "databaseAccountEndpoint",
                                                                                                      "dim3": "none",
                                                                                                      "metric1": "none",
                                                                                                      "metric2": "none",
                                                                                                      "metric3": "none",
                                                                                                      "metric4": "none",
                                                                                                      "networkLabel": "none",
                                                                                                      "timeseriesSort": "array-order"
                                                                                                    },
                                                                                                    "colors": [
                                                                                                      "#DA752E",
                                                                                                      "#E5C209",
                                                                                                      "#1441A0",
                                                                                                      "#B86117",
                                                                                                      "#4D430C",
                                                                                                      "#1DB390",
                                                                                                      "#B3331D",
                                                                                                      "#088EB2",
                                                                                                      "#417505",
                                                                                                      "#E479A8",
                                                                                                      "#F9F39E",
                                                                                                      "#5782DC",
                                                                                                      "#EBA97B",
                                                                                                      "#A2AB60",
                                                                                                      "#B291CF",
                                                                                                      "#8DD2C2",
                                                                                                      "#E6A19F",
                                                                                                      "#3DC7E0",
                                                                                                      "#98CE5B"
                                                                                                    ],
                                                                                                    "hierarchyType": "dendrogram",
                                                                                                    "lineType": "line",
                                                                                                    "marginalGraphics": "none",
                                                                                                    "networkType": "force",
                                                                                                    "pieceType": "bar",
                                                                                                    "selectedDimensions": [
                                                                                                      "name"
                                                                                                    ],
                                                                                                    "selectedMetrics": [],
                                                                                                    "summaryType": "violin",
                                                                                                    "trendLine": "none",
                                                                                                    "view": "hexbin"
                                                                                                  }
                                                                                                ]
                                                                                              ],
                                                                                              "ownerID": {}
                                                                                            }
                                                                                          ],
                                                                                          [
                                                                                            "__ownerID",
                                                                                            null
                                                                                          ],
                                                                                          [
                                                                                            "__hash",
                                                                                            null
                                                                                          ],
                                                                                          [
                                                                                            "__altered",
                                                                                            false
                                                                                          ],
                                                                                          [
                                                                                            "dx",
                                                                                            {
                                                                                              "areaType": "hexbin",
                                                                                              "barGrouping": "Clustered",
                                                                                              "chart": {
                                                                                                "dim1": "name",
                                                                                                "dim2": "databaseAccountEndpoint",
                                                                                                "dim3": "none",
                                                                                                "metric1": "none",
                                                                                                "metric2": "none",
                                                                                                "metric3": "none",
                                                                                                "metric4": "none",
                                                                                                "networkLabel": "none",
                                                                                                "timeseriesSort": "array-order"
                                                                                              },
                                                                                              "colors": [
                                                                                                "#DA752E",
                                                                                                "#E5C209",
                                                                                                "#1441A0",
                                                                                                "#B86117",
                                                                                                "#4D430C",
                                                                                                "#1DB390",
                                                                                                "#B3331D",
                                                                                                "#088EB2",
                                                                                                "#417505",
                                                                                                "#E479A8",
                                                                                                "#F9F39E",
                                                                                                "#5782DC",
                                                                                                "#EBA97B",
                                                                                                "#A2AB60",
                                                                                                "#B291CF",
                                                                                                "#8DD2C2",
                                                                                                "#E6A19F",
                                                                                                "#3DC7E0",
                                                                                                "#98CE5B"
                                                                                              ],
                                                                                              "hierarchyType": "dendrogram",
                                                                                              "lineType": "line",
                                                                                              "marginalGraphics": "none",
                                                                                              "networkType": "force",
                                                                                              "pieceType": "bar",
                                                                                              "selectedDimensions": [
                                                                                                "name"
                                                                                              ],
                                                                                              "selectedMetrics": [],
                                                                                              "summaryType": "violin",
                                                                                              "trendLine": "none",
                                                                                              "view": "network"
                                                                                            }
                                                                                          ]
                                                                                        ],
                                                                                        "ownerID": {}
                                                                                      }
                                                                                    ],
                                                                                    [
                                                                                      "__ownerID",
                                                                                      null
                                                                                    ],
                                                                                    [
                                                                                      "__hash",
                                                                                      null
                                                                                    ],
                                                                                    [
                                                                                      "__altered",
                                                                                      false
                                                                                    ],
                                                                                    [
                                                                                      "dx",
                                                                                      {
                                                                                        "areaType": "hexbin",
                                                                                        "barGrouping": "Clustered",
                                                                                        "chart": {
                                                                                          "dim1": "name",
                                                                                          "dim2": "databaseAccountEndpoint",
                                                                                          "dim3": "none",
                                                                                          "metric1": "none",
                                                                                          "metric2": "none",
                                                                                          "metric3": "none",
                                                                                          "metric4": "none",
                                                                                          "networkLabel": "none",
                                                                                          "timeseriesSort": "array-order"
                                                                                        },
                                                                                        "colors": [
                                                                                          "#DA752E",
                                                                                          "#E5C209",
                                                                                          "#1441A0",
                                                                                          "#B86117",
                                                                                          "#4D430C",
                                                                                          "#1DB390",
                                                                                          "#B3331D",
                                                                                          "#088EB2",
                                                                                          "#417505",
                                                                                          "#E479A8",
                                                                                          "#F9F39E",
                                                                                          "#5782DC",
                                                                                          "#EBA97B",
                                                                                          "#A2AB60",
                                                                                          "#B291CF",
                                                                                          "#8DD2C2",
                                                                                          "#E6A19F",
                                                                                          "#3DC7E0",
                                                                                          "#98CE5B"
                                                                                        ],
                                                                                        "hierarchyType": "dendrogram",
                                                                                        "lineType": "line",
                                                                                        "marginalGraphics": "none",
                                                                                        "networkType": "force",
                                                                                        "pieceType": "bar",
                                                                                        "selectedDimensions": [
                                                                                          "name"
                                                                                        ],
                                                                                        "selectedMetrics": [],
                                                                                        "summaryType": "violin",
                                                                                        "trendLine": "none",
                                                                                        "view": "hierarchy"
                                                                                      }
                                                                                    ]
                                                                                  ],
                                                                                  "ownerID": {}
                                                                                }
                                                                              ],
                                                                              [
                                                                                "__ownerID",
                                                                                null
                                                                              ],
                                                                              [
                                                                                "__hash",
                                                                                null
                                                                              ],
                                                                              [
                                                                                "__altered",
                                                                                false
                                                                              ],
                                                                              [
                                                                                "dx",
                                                                                {
                                                                                  "areaType": "hexbin",
                                                                                  "barGrouping": "Clustered",
                                                                                  "chart": {
                                                                                    "dim1": "name",
                                                                                    "dim2": "databaseAccountEndpoint",
                                                                                    "dim3": "none",
                                                                                    "metric1": "none",
                                                                                    "metric2": "none",
                                                                                    "metric3": "none",
                                                                                    "metric4": "none",
                                                                                    "networkLabel": "none",
                                                                                    "timeseriesSort": "array-order"
                                                                                  },
                                                                                  "colors": [
                                                                                    "#DA752E",
                                                                                    "#E5C209",
                                                                                    "#1441A0",
                                                                                    "#B86117",
                                                                                    "#4D430C",
                                                                                    "#1DB390",
                                                                                    "#B3331D",
                                                                                    "#088EB2",
                                                                                    "#417505",
                                                                                    "#E479A8",
                                                                                    "#F9F39E",
                                                                                    "#5782DC",
                                                                                    "#EBA97B",
                                                                                    "#A2AB60",
                                                                                    "#B291CF",
                                                                                    "#8DD2C2",
                                                                                    "#E6A19F",
                                                                                    "#3DC7E0",
                                                                                    "#98CE5B"
                                                                                  ],
                                                                                  "hierarchyType": "dendrogram",
                                                                                  "lineType": "line",
                                                                                  "marginalGraphics": "none",
                                                                                  "networkType": "force",
                                                                                  "pieceType": "bar",
                                                                                  "selectedDimensions": [
                                                                                    "name"
                                                                                  ],
                                                                                  "selectedMetrics": [],
                                                                                  "summaryType": "violin",
                                                                                  "trendLine": "none",
                                                                                  "view": "parallel"
                                                                                }
                                                                              ]
                                                                            ],
                                                                            "ownerID": {}
                                                                          }
                                                                        ],
                                                                        [
                                                                          "__ownerID",
                                                                          null
                                                                        ],
                                                                        [
                                                                          "__hash",
                                                                          null
                                                                        ],
                                                                        [
                                                                          "__altered",
                                                                          false
                                                                        ],
                                                                        [
                                                                          "dx",
                                                                          {
                                                                            "areaType": "hexbin",
                                                                            "barGrouping": "Clustered",
                                                                            "chart": {
                                                                              "dim1": "name",
                                                                              "dim2": "databaseAccountEndpoint",
                                                                              "dim3": "none",
                                                                              "metric1": "none",
                                                                              "metric2": "none",
                                                                              "metric3": "none",
                                                                              "metric4": "none",
                                                                              "networkLabel": "none",
                                                                              "timeseriesSort": "array-order"
                                                                            },
                                                                            "colors": [
                                                                              "#DA752E",
                                                                              "#E5C209",
                                                                              "#1441A0",
                                                                              "#B86117",
                                                                              "#4D430C",
                                                                              "#1DB390",
                                                                              "#B3331D",
                                                                              "#088EB2",
                                                                              "#417505",
                                                                              "#E479A8",
                                                                              "#F9F39E",
                                                                              "#5782DC",
                                                                              "#EBA97B",
                                                                              "#A2AB60",
                                                                              "#B291CF",
                                                                              "#8DD2C2",
                                                                              "#E6A19F",
                                                                              "#3DC7E0",
                                                                              "#98CE5B"
                                                                            ],
                                                                            "hierarchyType": "dendrogram",
                                                                            "lineType": "line",
                                                                            "marginalGraphics": "none",
                                                                            "networkType": "force",
                                                                            "pieceType": "bar",
                                                                            "selectedDimensions": [
                                                                              "name"
                                                                            ],
                                                                            "selectedMetrics": [],
                                                                            "summaryType": "violin",
                                                                            "trendLine": "none",
                                                                            "view": "grid"
                                                                          }
                                                                        ]
                                                                      ],
                                                                      "ownerID": {}
                                                                    }
                                                                  ],
                                                                  [
                                                                    "dx",
                                                                    {
                                                                      "areaType": "hexbin",
                                                                      "barGrouping": "Clustered",
                                                                      "chart": {
                                                                        "dim1": "name",
                                                                        "dim2": "databaseAccountEndpoint",
                                                                        "dim3": "none",
                                                                        "metric1": "none",
                                                                        "metric2": "none",
                                                                        "metric3": "none",
                                                                        "metric4": "none",
                                                                        "networkLabel": "none",
                                                                        "timeseriesSort": "array-order"
                                                                      },
                                                                      "colors": [
                                                                        "#DA752E",
                                                                        "#E5C209",
                                                                        "#1441A0",
                                                                        "#B86117",
                                                                        "#4D430C",
                                                                        "#1DB390",
                                                                        "#B3331D",
                                                                        "#088EB2",
                                                                        "#417505",
                                                                        "#E479A8",
                                                                        "#F9F39E",
                                                                        "#5782DC",
                                                                        "#EBA97B",
                                                                        "#A2AB60",
                                                                        "#B291CF",
                                                                        "#8DD2C2",
                                                                        "#E6A19F",
                                                                        "#3DC7E0",
                                                                        "#98CE5B"
                                                                      ],
                                                                      "hierarchyType": "dendrogram",
                                                                      "lineType": "line",
                                                                      "marginalGraphics": "none",
                                                                      "networkType": "force",
                                                                      "pieceType": "bar",
                                                                      "selectedDimensions": [
                                                                        "name"
                                                                      ],
                                                                      "selectedMetrics": [],
                                                                      "summaryType": "violin",
                                                                      "trendLine": "none",
                                                                      "view": "grid"
                                                                    }
                                                                  ],
                                                                  [
                                                                    "size",
                                                                    6
                                                                  ]
                                                                ],
                                                                "ownerID": {}
                                                              }
                                                            ],
                                                            [
                                                              "__altered",
                                                              false
                                                            ],
                                                            [
                                                              "dx",
                                                              {
                                                                "areaType": "hexbin",
                                                                "barGrouping": "Clustered",
                                                                "chart": {
                                                                  "dim1": "name",
                                                                  "dim2": "databaseAccountEndpoint",
                                                                  "dim3": "none",
                                                                  "metric1": "none",
                                                                  "metric2": "none",
                                                                  "metric3": "none",
                                                                  "metric4": "none",
                                                                  "networkLabel": "none",
                                                                  "timeseriesSort": "array-order"
                                                                },
                                                                "colors": [
                                                                  "#DA752E",
                                                                  "#E5C209",
                                                                  "#1441A0",
                                                                  "#B86117",
                                                                  "#4D430C",
                                                                  "#1DB390",
                                                                  "#B3331D",
                                                                  "#088EB2",
                                                                  "#417505",
                                                                  "#E479A8",
                                                                  "#F9F39E",
                                                                  "#5782DC",
                                                                  "#EBA97B",
                                                                  "#A2AB60",
                                                                  "#B291CF",
                                                                  "#8DD2C2",
                                                                  "#E6A19F",
                                                                  "#3DC7E0",
                                                                  "#98CE5B"
                                                                ],
                                                                "hierarchyType": "dendrogram",
                                                                "lineType": "line",
                                                                "marginalGraphics": "none",
                                                                "networkType": "force",
                                                                "pieceType": "bar",
                                                                "selectedDimensions": [
                                                                  "name"
                                                                ],
                                                                "selectedMetrics": [],
                                                                "summaryType": "violin",
                                                                "trendLine": "none",
                                                                "view": "grid"
                                                              }
                                                            ]
                                                          ],
                                                          "ownerID": {}
                                                        }
                                                      ],
                                                      [
                                                        "__altered",
                                                        false
                                                      ],
                                                      [
                                                        "dx",
                                                        {
                                                          "areaType": "hexbin",
                                                          "barGrouping": "Clustered",
                                                          "chart": {
                                                            "dim1": "name",
                                                            "dim2": "databaseAccountEndpoint",
                                                            "dim3": "none",
                                                            "metric1": "none",
                                                            "metric2": "none",
                                                            "metric3": "none",
                                                            "metric4": "none",
                                                            "networkLabel": "none",
                                                            "timeseriesSort": "array-order"
                                                          },
                                                          "colors": [
                                                            "#DA752E",
                                                            "#E5C209",
                                                            "#1441A0",
                                                            "#B86117",
                                                            "#4D430C",
                                                            "#1DB390",
                                                            "#B3331D",
                                                            "#088EB2",
                                                            "#417505",
                                                            "#E479A8",
                                                            "#F9F39E",
                                                            "#5782DC",
                                                            "#EBA97B",
                                                            "#A2AB60",
                                                            "#B291CF",
                                                            "#8DD2C2",
                                                            "#E6A19F",
                                                            "#3DC7E0",
                                                            "#98CE5B"
                                                          ],
                                                          "hierarchyType": "dendrogram",
                                                          "lineType": "line",
                                                          "marginalGraphics": "none",
                                                          "networkType": "force",
                                                          "pieceType": "bar",
                                                          "selectedDimensions": [
                                                            "name"
                                                          ],
                                                          "selectedMetrics": [],
                                                          "summaryType": "violin",
                                                          "trendLine": "none",
                                                          "view": "grid"
                                                        }
                                                      ]
                                                    ],
                                                    "ownerID": {}
                                                  }
                                                ],
                                                [
                                                  "dx",
                                                  {
                                                    "areaType": "hexbin",
                                                    "barGrouping": "Clustered",
                                                    "chart": {
                                                      "dim1": "name",
                                                      "dim2": "databaseAccountEndpoint",
                                                      "dim3": "none",
                                                      "metric1": "none",
                                                      "metric2": "none",
                                                      "metric3": "none",
                                                      "metric4": "none",
                                                      "networkLabel": "none",
                                                      "timeseriesSort": "array-order"
                                                    },
                                                    "colors": [
                                                      "#DA752E",
                                                      "#E5C209",
                                                      "#1441A0",
                                                      "#B86117",
                                                      "#4D430C",
                                                      "#1DB390",
                                                      "#B3331D",
                                                      "#088EB2",
                                                      "#417505",
                                                      "#E479A8",
                                                      "#F9F39E",
                                                      "#5782DC",
                                                      "#EBA97B",
                                                      "#A2AB60",
                                                      "#B291CF",
                                                      "#8DD2C2",
                                                      "#E6A19F",
                                                      "#3DC7E0",
                                                      "#98CE5B"
                                                    ],
                                                    "hierarchyType": "dendrogram",
                                                    "lineType": "line",
                                                    "marginalGraphics": "none",
                                                    "networkType": "force",
                                                    "pieceType": "bar",
                                                    "selectedDimensions": [
                                                      "name"
                                                    ],
                                                    "selectedMetrics": [],
                                                    "summaryType": "violin",
                                                    "trendLine": "none",
                                                    "view": "grid"
                                                  }
                                                ],
                                                [
                                                  "size",
                                                  4
                                                ]
                                              ],
                                              "ownerID": {}
                                            }
                                          ],
                                          [
                                            "dx",
                                            {
                                              "areaType": "hexbin",
                                              "barGrouping": "Clustered",
                                              "chart": {
                                                "dim1": "name",
                                                "dim2": "databaseAccountEndpoint",
                                                "dim3": "none",
                                                "metric1": "none",
                                                "metric2": "none",
                                                "metric3": "none",
                                                "metric4": "none",
                                                "networkLabel": "none",
                                                "timeseriesSort": "array-order"
                                              },
                                              "colors": [
                                                "#DA752E",
                                                "#E5C209",
                                                "#1441A0",
                                                "#B86117",
                                                "#4D430C",
                                                "#1DB390",
                                                "#B3331D",
                                                "#088EB2",
                                                "#417505",
                                                "#E479A8",
                                                "#F9F39E",
                                                "#5782DC",
                                                "#EBA97B",
                                                "#A2AB60",
                                                "#B291CF",
                                                "#8DD2C2",
                                                "#E6A19F",
                                                "#3DC7E0",
                                                "#98CE5B"
                                              ],
                                              "hierarchyType": "dendrogram",
                                              "lineType": "line",
                                              "marginalGraphics": "none",
                                              "networkType": "force",
                                              "pieceType": "bar",
                                              "selectedDimensions": [
                                                "name"
                                              ],
                                              "selectedMetrics": [],
                                              "summaryType": "violin",
                                              "trendLine": "none",
                                              "view": "grid"
                                            }
                                          ],
                                          [
                                            "size",
                                            4
                                          ]
                                        ],
                                        "ownerID": {}
                                      }
                                    ],
                                    [
                                      "dx",
                                      {
                                        "areaType": "hexbin",
                                        "barGrouping": "Clustered",
                                        "chart": {
                                          "dim1": "name",
                                          "dim2": "databaseAccountEndpoint",
                                          "dim3": "none",
                                          "metric1": "none",
                                          "metric2": "none",
                                          "metric3": "none",
                                          "metric4": "none",
                                          "networkLabel": "none",
                                          "timeseriesSort": "array-order"
                                        },
                                        "colors": [
                                          "#DA752E",
                                          "#E5C209",
                                          "#1441A0",
                                          "#B86117",
                                          "#4D430C",
                                          "#1DB390",
                                          "#B3331D",
                                          "#088EB2",
                                          "#417505",
                                          "#E479A8",
                                          "#F9F39E",
                                          "#5782DC",
                                          "#EBA97B",
                                          "#A2AB60",
                                          "#B291CF",
                                          "#8DD2C2",
                                          "#E6A19F",
                                          "#3DC7E0",
                                          "#98CE5B"
                                        ],
                                        "hierarchyType": "dendrogram",
                                        "lineType": "line",
                                        "marginalGraphics": "none",
                                        "networkType": "force",
                                        "pieceType": "bar",
                                        "selectedDimensions": [
                                          "name"
                                        ],
                                        "selectedMetrics": [],
                                        "summaryType": "violin",
                                        "trendLine": "none",
                                        "view": "grid"
                                      }
                                    ],
                                    [
                                      "size",
                                      4
                                    ]
                                  ],
                                  "ownerID": {}
                                }
                              ],
                              [
                                "dx",
                                {
                                  "areaType": "hexbin",
                                  "barGrouping": "Clustered",
                                  "chart": {
                                    "dim1": "name",
                                    "dim2": "databaseAccountEndpoint",
                                    "dim3": "none",
                                    "metric1": "none",
                                    "metric2": "none",
                                    "metric3": "none",
                                    "metric4": "none",
                                    "networkLabel": "none",
                                    "timeseriesSort": "array-order"
                                  },
                                  "colors": [
                                    "#DA752E",
                                    "#E5C209",
                                    "#1441A0",
                                    "#B86117",
                                    "#4D430C",
                                    "#1DB390",
                                    "#B3331D",
                                    "#088EB2",
                                    "#417505",
                                    "#E479A8",
                                    "#F9F39E",
                                    "#5782DC",
                                    "#EBA97B",
                                    "#A2AB60",
                                    "#B291CF",
                                    "#8DD2C2",
                                    "#E6A19F",
                                    "#3DC7E0",
                                    "#98CE5B"
                                  ],
                                  "hierarchyType": "dendrogram",
                                  "lineType": "line",
                                  "marginalGraphics": "none",
                                  "networkType": "force",
                                  "pieceType": "bar",
                                  "selectedDimensions": [
                                    "name"
                                  ],
                                  "selectedMetrics": [],
                                  "summaryType": "violin",
                                  "trendLine": "none",
                                  "view": "grid"
                                }
                              ],
                              [
                                "size",
                                4
                              ]
                            ],
                            "ownerID": {}
                          }
                        ],
                        [
                          "__ownerID",
                          null
                        ],
                        [
                          "__hash",
                          null
                        ],
                        [
                          "__altered",
                          false
                        ],
                        [
                          "dx",
                          {
                            "areaType": "hexbin",
                            "barGrouping": "Clustered",
                            "chart": {
                              "dim1": "name",
                              "dim2": "databaseAccountEndpoint",
                              "dim3": "none",
                              "metric1": "none",
                              "metric2": "none",
                              "metric3": "none",
                              "metric4": "none",
                              "networkLabel": "none",
                              "timeseriesSort": "array-order"
                            },
                            "colors": [
                              "#DA752E",
                              "#E5C209",
                              "#1441A0",
                              "#B86117",
                              "#4D430C",
                              "#1DB390",
                              "#B3331D",
                              "#088EB2",
                              "#417505",
                              "#E479A8",
                              "#F9F39E",
                              "#5782DC",
                              "#EBA97B",
                              "#A2AB60",
                              "#B291CF",
                              "#8DD2C2",
                              "#E6A19F",
                              "#3DC7E0",
                              "#98CE5B"
                            ],
                            "hierarchyType": "dendrogram",
                            "lineType": "line",
                            "marginalGraphics": "none",
                            "networkType": "force",
                            "pieceType": "bar",
                            "selectedDimensions": [
                              "name"
                            ],
                            "selectedMetrics": [],
                            "summaryType": "violin",
                            "trendLine": "none",
                            "view": "grid"
                          }
                        ]
                      ],
                      "ownerID": {}
                    }
                  ],
                  [
                    "__ownerID",
                    null
                  ],
                  [
                    "__hash",
                    null
                  ],
                  [
                    "__altered",
                    false
                  ],
                  [
                    "dx",
                    {
                      "areaType": "hexbin",
                      "barGrouping": "Clustered",
                      "chart": {
                        "dim1": "name",
                        "dim2": "databaseAccountEndpoint",
                        "dim3": "none",
                        "metric1": "none",
                        "metric2": "none",
                        "metric3": "none",
                        "metric4": "none",
                        "networkLabel": "none",
                        "timeseriesSort": "array-order"
                      },
                      "colors": [
                        "#DA752E",
                        "#E5C209",
                        "#1441A0",
                        "#B86117",
                        "#4D430C",
                        "#1DB390",
                        "#B3331D",
                        "#088EB2",
                        "#417505",
                        "#E479A8",
                        "#F9F39E",
                        "#5782DC",
                        "#EBA97B",
                        "#A2AB60",
                        "#B291CF",
                        "#8DD2C2",
                        "#E6A19F",
                        "#3DC7E0",
                        "#98CE5B"
                      ],
                      "hierarchyType": "dendrogram",
                      "lineType": "line",
                      "marginalGraphics": "none",
                      "networkType": "force",
                      "pieceType": "bar",
                      "selectedDimensions": [
                        "name"
                      ],
                      "selectedMetrics": [],
                      "summaryType": "violin",
                      "trendLine": "none",
                      "view": "bar"
                    }
                  ]
                ],
                "ownerID": {}
              },
              "dx": {
                "areaType": "hexbin",
                "barGrouping": "Clustered",
                "chart": {
                  "dim1": "name",
                  "dim2": "databaseAccountEndpoint",
                  "dim3": "none",
                  "metric1": "none",
                  "metric2": "none",
                  "metric3": "none",
                  "metric4": "none",
                  "networkLabel": "none",
                  "timeseriesSort": "array-order"
                },
                "colors": [
                  "#DA752E",
                  "#E5C209",
                  "#1441A0",
                  "#B86117",
                  "#4D430C",
                  "#1DB390",
                  "#B3331D",
                  "#088EB2",
                  "#417505",
                  "#E479A8",
                  "#F9F39E",
                  "#5782DC",
                  "#EBA97B",
                  "#A2AB60",
                  "#B291CF",
                  "#8DD2C2",
                  "#E6A19F",
                  "#3DC7E0",
                  "#98CE5B"
                ],
                "hierarchyType": "dendrogram",
                "lineType": "line",
                "marginalGraphics": "none",
                "networkType": "force",
                "pieceType": "bar",
                "selectedDimensions": [
                  "name"
                ],
                "selectedMetrics": [],
                "summaryType": "violin",
                "trendLine": "none",
                "view": "grid"
              },
              "size": 6
            }
          },
          "output_type": "execute_result"
        }
      ],
      "source": "account.ReadableRegions"
    },
    {
      "cell_type": "code",
      "execution_count": 18,
      "id": "efb9447d-4e03-4a19-a86f-54291c9ab4b1",
      "metadata": {
        "collapsed": true,
        "execution": {
          "iopub.status.busy": "2021-03-09T09:53:06.430Z",
          "iopub.status.idle": "2021-03-09T09:53:06.497Z",
          "shell.execute_reply": "2021-03-09T09:53:06.505Z"
        },
        "jupyter": {
          "outputs_hidden": false,
          "source_hidden": false
        },
        "nteract": {
          "transient": {
            "deleting": false
          }
        },
        "trusted": false
      },
      "outputs": [
        {
          "data": {
            "application/vnd.dataresource+json": {
              "data": [
                {
                  "databaseAccountEndpoint": "https://ramrajb-sdk-samples-westus2.documents.azure.com:443/",
                  "index": 0,
                  "name": "West US 2"
                }
              ],
              "schema": {
                "fields": [
                  {
                    "name": "index",
                    "type": "integer"
                  },
                  {
                    "name": "name",
                    "type": "string"
                  },
                  {
                    "name": "databaseAccountEndpoint",
                    "type": "string"
                  }
                ],
                "primaryKey": [
                  "index"
                ]
              }
            },
            "text/plain": "System.Collections.ObjectModel.Collection`1[Microsoft.Azure.Cosmos.AccountRegion]"
          },
          "execution_count": 18,
          "metadata": {
            "application/vnd.dataresource+json": {
              "__altered": false,
              "_root": {
                "entries": [
                  [
                    "__altered",
                    false
                  ],
                  [
                    "_root",
                    {
                      "entries": [
                        [
                          "__altered",
                          false
                        ],
                        [
                          "_root",
                          {
                            "entries": [
                              [
                                "__altered",
                                false
                              ],
                              [
                                "_root",
                                {
                                  "entries": [
                                    [
                                      "__altered",
                                      false
                                    ],
                                    [
                                      "_root",
                                      {
                                        "entries": [
                                          [
                                            "size",
                                            4
                                          ],
                                          [
                                            "_root",
                                            {
                                              "entries": [
                                                [
                                                  "size",
                                                  1
                                                ],
                                                [
                                                  "_root",
                                                  {
                                                    "entries": [
                                                      [
                                                        "dx",
                                                        {
                                                          "areaType": "hexbin",
                                                          "barGrouping": "Clustered",
                                                          "chart": {
                                                            "dim1": "name",
                                                            "dim2": "databaseAccountEndpoint",
                                                            "dim3": "none",
                                                            "metric1": "none",
                                                            "metric2": "none",
                                                            "metric3": "none",
                                                            "metric4": "none",
                                                            "networkLabel": "none",
                                                            "timeseriesSort": "array-order"
                                                          },
                                                          "colors": [
                                                            "#DA752E",
                                                            "#E5C209",
                                                            "#1441A0",
                                                            "#B86117",
                                                            "#4D430C",
                                                            "#1DB390",
                                                            "#B3331D",
                                                            "#088EB2",
                                                            "#417505",
                                                            "#E479A8",
                                                            "#F9F39E",
                                                            "#5782DC",
                                                            "#EBA97B",
                                                            "#A2AB60",
                                                            "#B291CF",
                                                            "#8DD2C2",
                                                            "#E6A19F",
                                                            "#3DC7E0",
                                                            "#98CE5B"
                                                          ],
                                                          "hierarchyType": "dendrogram",
                                                          "lineType": "line",
                                                          "marginalGraphics": "none",
                                                          "networkType": "force",
                                                          "pieceType": "bar",
                                                          "selectedDimensions": [
                                                            "name"
                                                          ],
                                                          "selectedMetrics": [],
                                                          "summaryType": "violin",
                                                          "trendLine": "none",
                                                          "view": "grid"
                                                        }
                                                      ]
                                                    ],
                                                    "ownerID": {}
                                                  }
                                                ],
                                                [
                                                  "__altered",
                                                  false
                                                ],
                                                [
                                                  "dx",
                                                  {
                                                    "areaType": "hexbin",
                                                    "barGrouping": "Clustered",
                                                    "chart": {
                                                      "dim1": "name",
                                                      "dim2": "databaseAccountEndpoint",
                                                      "dim3": "none",
                                                      "metric1": "none",
                                                      "metric2": "none",
                                                      "metric3": "none",
                                                      "metric4": "none",
                                                      "networkLabel": "none",
                                                      "timeseriesSort": "array-order"
                                                    },
                                                    "colors": [
                                                      "#DA752E",
                                                      "#E5C209",
                                                      "#1441A0",
                                                      "#B86117",
                                                      "#4D430C",
                                                      "#1DB390",
                                                      "#B3331D",
                                                      "#088EB2",
                                                      "#417505",
                                                      "#E479A8",
                                                      "#F9F39E",
                                                      "#5782DC",
                                                      "#EBA97B",
                                                      "#A2AB60",
                                                      "#B291CF",
                                                      "#8DD2C2",
                                                      "#E6A19F",
                                                      "#3DC7E0",
                                                      "#98CE5B"
                                                    ],
                                                    "hierarchyType": "dendrogram",
                                                    "lineType": "line",
                                                    "marginalGraphics": "none",
                                                    "networkType": "force",
                                                    "pieceType": "bar",
                                                    "selectedDimensions": [
                                                      "name"
                                                    ],
                                                    "selectedMetrics": [],
                                                    "summaryType": "violin",
                                                    "trendLine": "none",
                                                    "view": "grid"
                                                  }
                                                ]
                                              ],
                                              "ownerID": {}
                                            }
                                          ],
                                          [
                                            "__altered",
                                            false
                                          ],
                                          [
                                            "dx",
                                            {
                                              "areaType": "hexbin",
                                              "barGrouping": "Clustered",
                                              "chart": {
                                                "dim1": "name",
                                                "dim2": "databaseAccountEndpoint",
                                                "dim3": "none",
                                                "metric1": "none",
                                                "metric2": "none",
                                                "metric3": "none",
                                                "metric4": "none",
                                                "networkLabel": "none",
                                                "timeseriesSort": "array-order"
                                              },
                                              "colors": [
                                                "#DA752E",
                                                "#E5C209",
                                                "#1441A0",
                                                "#B86117",
                                                "#4D430C",
                                                "#1DB390",
                                                "#B3331D",
                                                "#088EB2",
                                                "#417505",
                                                "#E479A8",
                                                "#F9F39E",
                                                "#5782DC",
                                                "#EBA97B",
                                                "#A2AB60",
                                                "#B291CF",
                                                "#8DD2C2",
                                                "#E6A19F",
                                                "#3DC7E0",
                                                "#98CE5B"
                                              ],
                                              "hierarchyType": "dendrogram",
                                              "lineType": "line",
                                              "marginalGraphics": "none",
                                              "networkType": "force",
                                              "pieceType": "bar",
                                              "selectedDimensions": [
                                                "name"
                                              ],
                                              "selectedMetrics": [],
                                              "summaryType": "violin",
                                              "trendLine": "none",
                                              "view": "grid"
                                            }
                                          ]
                                        ],
                                        "ownerID": {}
                                      }
                                    ],
                                    [
                                      "dx",
                                      {
                                        "areaType": "hexbin",
                                        "barGrouping": "Clustered",
                                        "chart": {
                                          "dim1": "name",
                                          "dim2": "databaseAccountEndpoint",
                                          "dim3": "none",
                                          "metric1": "none",
                                          "metric2": "none",
                                          "metric3": "none",
                                          "metric4": "none",
                                          "networkLabel": "none",
                                          "timeseriesSort": "array-order"
                                        },
                                        "colors": [
                                          "#DA752E",
                                          "#E5C209",
                                          "#1441A0",
                                          "#B86117",
                                          "#4D430C",
                                          "#1DB390",
                                          "#B3331D",
                                          "#088EB2",
                                          "#417505",
                                          "#E479A8",
                                          "#F9F39E",
                                          "#5782DC",
                                          "#EBA97B",
                                          "#A2AB60",
                                          "#B291CF",
                                          "#8DD2C2",
                                          "#E6A19F",
                                          "#3DC7E0",
                                          "#98CE5B"
                                        ],
                                        "hierarchyType": "dendrogram",
                                        "lineType": "line",
                                        "marginalGraphics": "none",
                                        "networkType": "force",
                                        "pieceType": "bar",
                                        "selectedDimensions": [
                                          "name"
                                        ],
                                        "selectedMetrics": [],
                                        "summaryType": "violin",
                                        "trendLine": "none",
                                        "view": "grid"
                                      }
                                    ],
                                    [
                                      "size",
                                      4
                                    ]
                                  ],
                                  "ownerID": {}
                                }
                              ],
                              [
                                "dx",
                                {
                                  "areaType": "hexbin",
                                  "barGrouping": "Clustered",
                                  "chart": {
                                    "dim1": "name",
                                    "dim2": "databaseAccountEndpoint",
                                    "dim3": "none",
                                    "metric1": "none",
                                    "metric2": "none",
                                    "metric3": "none",
                                    "metric4": "none",
                                    "networkLabel": "none",
                                    "timeseriesSort": "array-order"
                                  },
                                  "colors": [
                                    "#DA752E",
                                    "#E5C209",
                                    "#1441A0",
                                    "#B86117",
                                    "#4D430C",
                                    "#1DB390",
                                    "#B3331D",
                                    "#088EB2",
                                    "#417505",
                                    "#E479A8",
                                    "#F9F39E",
                                    "#5782DC",
                                    "#EBA97B",
                                    "#A2AB60",
                                    "#B291CF",
                                    "#8DD2C2",
                                    "#E6A19F",
                                    "#3DC7E0",
                                    "#98CE5B"
                                  ],
                                  "hierarchyType": "dendrogram",
                                  "lineType": "line",
                                  "marginalGraphics": "none",
                                  "networkType": "force",
                                  "pieceType": "bar",
                                  "selectedDimensions": [
                                    "name"
                                  ],
                                  "selectedMetrics": [],
                                  "summaryType": "violin",
                                  "trendLine": "none",
                                  "view": "grid"
                                }
                              ],
                              [
                                "size",
                                4
                              ]
                            ],
                            "ownerID": {}
                          }
                        ],
                        [
                          "dx",
                          {
                            "areaType": "hexbin",
                            "barGrouping": "Clustered",
                            "chart": {
                              "dim1": "name",
                              "dim2": "databaseAccountEndpoint",
                              "dim3": "none",
                              "metric1": "none",
                              "metric2": "none",
                              "metric3": "none",
                              "metric4": "none",
                              "networkLabel": "none",
                              "timeseriesSort": "array-order"
                            },
                            "colors": [
                              "#DA752E",
                              "#E5C209",
                              "#1441A0",
                              "#B86117",
                              "#4D430C",
                              "#1DB390",
                              "#B3331D",
                              "#088EB2",
                              "#417505",
                              "#E479A8",
                              "#F9F39E",
                              "#5782DC",
                              "#EBA97B",
                              "#A2AB60",
                              "#B291CF",
                              "#8DD2C2",
                              "#E6A19F",
                              "#3DC7E0",
                              "#98CE5B"
                            ],
                            "hierarchyType": "dendrogram",
                            "lineType": "line",
                            "marginalGraphics": "none",
                            "networkType": "force",
                            "pieceType": "bar",
                            "selectedDimensions": [
                              "name"
                            ],
                            "selectedMetrics": [],
                            "summaryType": "violin",
                            "trendLine": "none",
                            "view": "grid"
                          }
                        ],
                        [
                          "size",
                          4
                        ]
                      ],
                      "ownerID": {}
                    }
                  ],
                  [
                    "dx",
                    {
                      "areaType": "hexbin",
                      "barGrouping": "Clustered",
                      "chart": {
                        "dim1": "name",
                        "dim2": "databaseAccountEndpoint",
                        "dim3": "none",
                        "metric1": "none",
                        "metric2": "none",
                        "metric3": "none",
                        "metric4": "none",
                        "networkLabel": "none",
                        "timeseriesSort": "array-order"
                      },
                      "colors": [
                        "#DA752E",
                        "#E5C209",
                        "#1441A0",
                        "#B86117",
                        "#4D430C",
                        "#1DB390",
                        "#B3331D",
                        "#088EB2",
                        "#417505",
                        "#E479A8",
                        "#F9F39E",
                        "#5782DC",
                        "#EBA97B",
                        "#A2AB60",
                        "#B291CF",
                        "#8DD2C2",
                        "#E6A19F",
                        "#3DC7E0",
                        "#98CE5B"
                      ],
                      "hierarchyType": "dendrogram",
                      "lineType": "line",
                      "marginalGraphics": "none",
                      "networkType": "force",
                      "pieceType": "bar",
                      "selectedDimensions": [
                        "name"
                      ],
                      "selectedMetrics": [],
                      "summaryType": "violin",
                      "trendLine": "none",
                      "view": "grid"
                    }
                  ],
                  [
                    "size",
                    4
                  ]
                ],
                "ownerID": {}
              },
              "dx": {
                "areaType": "hexbin",
                "barGrouping": "Clustered",
                "chart": {
                  "dim1": "name",
                  "dim2": "databaseAccountEndpoint",
                  "dim3": "none",
                  "metric1": "none",
                  "metric2": "none",
                  "metric3": "none",
                  "metric4": "none",
                  "networkLabel": "none",
                  "timeseriesSort": "array-order"
                },
                "colors": [
                  "#DA752E",
                  "#E5C209",
                  "#1441A0",
                  "#B86117",
                  "#4D430C",
                  "#1DB390",
                  "#B3331D",
                  "#088EB2",
                  "#417505",
                  "#E479A8",
                  "#F9F39E",
                  "#5782DC",
                  "#EBA97B",
                  "#A2AB60",
                  "#B291CF",
                  "#8DD2C2",
                  "#E6A19F",
                  "#3DC7E0",
                  "#98CE5B"
                ],
                "hierarchyType": "dendrogram",
                "lineType": "line",
                "marginalGraphics": "none",
                "networkType": "force",
                "pieceType": "bar",
                "selectedDimensions": [
                  "name"
                ],
                "selectedMetrics": [],
                "summaryType": "violin",
                "trendLine": "none",
                "view": "grid"
              },
              "size": 4
            }
          },
          "output_type": "execute_result"
        }
      ],
      "source": "account.WritableRegions"
    }
  ],
  "metadata": {
    "kernelspec": {
      "displayName": "CSharp",
      "language": "csharp",
      "name": "csharp"
    },
    "language_info": {
      "codemirror_mode": "text/x-csharp",
      "file_extension": "ipynb",
      "mimetype": "application/json",
      "name": "csharp",
      "version": "7.3"
    },
    "nteract": {
      "version": "dataExplorer 1.0"
    }
  },
  "nbformat": 4,
  "nbformat_minor": 5
}