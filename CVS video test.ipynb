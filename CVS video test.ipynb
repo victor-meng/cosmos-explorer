{
  "cells": [
    {
      "cell_type": "markdown",
      "metadata": {
        "nteract": {
          "transient": {
            "deleting": false
          }
        }
      },
      "source": "# HTML video\r\n\r\n<video src=\"https://opspublicscus.blob.core.windows.net/test-content/A1.mp4\" />\r\n"
    },
    {
      "cell_type": "markdown",
      "metadata": {
        "nteract": {
          "transient": {
            "deleting": false
          }
        }
      },
      "source": "# Display video using code\r\n"
    },
    {
      "cell_type": "code",
      "execution_count": 1,
      "metadata": {
        "collapsed": true,
        "execution": {
          "iopub.execute_input": "2020-10-08T23:22:38.534Z",
          "iopub.status.busy": "2020-10-08T23:22:38.531Z",
          "iopub.status.idle": "2020-10-08T23:22:38.550Z",
          "shell.execute_reply": "2020-10-08T23:22:38.555Z"
        },
        "jupyter": {
          "outputs_hidden": false,
          "source_hidden": false
        },
        "nteract": {
          "transient": {
            "deleting": false
          }
        },
        "trusted": false
      },
      "outputs": [
        {
          "data": {
            "text/html": "<video src=\"https://opspublicscus.blob.core.windows.net/test-content/A1andB2.mp4\" controls  >\n      Your browser does not support the <code>video</code> element.\n    </video>",
            "text/plain": "<IPython.core.display.Video object>"
          },
          "execution_count": 1,
          "metadata": {},
          "output_type": "execute_result"
        }
      ],
      "source": "from IPython.display import Video\r\nVideo(\"https://opspublicscus.blob.core.windows.net/test-content/A1andB2.mp4\")"
    }
  ],
  "metadata": {
    "language_info": {
      "file_extension": "ipynb",
      "mimetype": "application/json",
      "name": "python",
      "version": "3.7"
    },
    "nteract": {
      "version": "dataExplorer 1.0"
    }
  },
  "nbformat": 4,
  "nbformat_minor": 4
}